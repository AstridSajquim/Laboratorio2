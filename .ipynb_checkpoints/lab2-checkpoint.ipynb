{
 "cells": [
  {
   "cell_type": "markdown",
   "id": "ebc28758-12ed-4f08-97c7-e3cabbd69ec2",
   "metadata": {},
   "source": [
    "# 1"
   ]
  },
  {
   "cell_type": "code",
   "execution_count": 23,
   "id": "3b7a6da0-e519-4c53-87d6-926dd7343239",
   "metadata": {
    "tags": []
   },
   "outputs": [
    {
     "name": "stdin",
     "output_type": "stream",
     "text": [
      "Ingrese el número de segundos:  56986\n"
     ]
    },
    {
     "name": "stdout",
     "output_type": "stream",
     "text": [
      "Horas: 15\n",
      "Minutos: 49\n",
      "Segundos: 46\n"
     ]
    }
   ],
   "source": [
    "# Auth Astrid S.-\n",
    "def convertir_segundos(segundos):\n",
    "    horas = segundos // 3600\n",
    "    segundos %= 3600\n",
    "    minutos = segundos // 60\n",
    "    segundos %= 60\n",
    "    return horas, minutos, segundos\n",
    "\n",
    "def main():\n",
    "    try:\n",
    "        segundos = int(input(\"Ingrese el número de segundos: \"))\n",
    "        if segundos < 0:\n",
    "            raise ValueError(\"El número de segundos no puede ser negativo.\")\n",
    "        \n",
    "        horas, minutos, segundos_restantes = convertir_segundos(segundos)\n",
    "        print(\"Horas:\", horas)\n",
    "        print(\"Minutos:\", minutos)\n",
    "        print(\"Segundos:\", segundos_restantes)\n",
    "    \n",
    "    except ValueError:\n",
    "        print(\"Error: Por favor ingrese un número entero válido de segundos.\")\n",
    "\n",
    "main()\n"
   ]
  },
  {
   "cell_type": "markdown",
   "id": "50e994b8-8b07-452f-9e48-c7689d3fcc21",
   "metadata": {},
   "source": [
    "# 2"
   ]
  },
  {
   "cell_type": "code",
   "execution_count": 14,
   "id": "75bcb3a3-a4c3-4c62-bc72-e2b142b0fdf9",
   "metadata": {
    "tags": []
   },
   "outputs": [
    {
     "name": "stdin",
     "output_type": "stream",
     "text": [
      "Ingrese un número entre 1 y 20:  8\n",
      "Ingrese un caracter:  -\n"
     ]
    },
    {
     "name": "stdout",
     "output_type": "stream",
     "text": [
      "-        -------- -------- -\n",
      "--       -------  -------  --\n",
      "---      ------   ------   ---\n",
      "----     -----    -----    ----\n",
      "-----    ----     ----     -----\n",
      "------   ---      ---      ------\n",
      "-------  --       --       -------\n",
      "-------- -        -        --------\n"
     ]
    }
   ],
   "source": [
    "# Auth Astrid S.-\n",
    "def generar(numero, caracter):\n",
    "    if numero < 1 or numero > 20:\n",
    "        print(\"El número debe estar entre 1 y 20\")\n",
    "        return\n",
    "    for i in range(1, numero + 1):\n",
    "        # Vuelta1\n",
    "        print(caracter * i, end=' ' * (numero - i + 1))\n",
    "        # Vuelta2\n",
    "        print(caracter * (numero - i + 1), end=' ' * i)\n",
    "        # Vuelta3\n",
    "        print(caracter * (numero - i + 1), end=' ' * i)\n",
    "        # Vuelta4\n",
    "        print(caracter * i)\n",
    "numero = int(input(\"Ingrese un número entre 1 y 20: \"))\n",
    "caracter = input(\"Ingrese un caracter: \")\n",
    "generar(numero, caracter)"
   ]
  },
  {
   "cell_type": "markdown",
   "id": "d78d4a4d-bf6e-4edc-8413-2e8b7b6ba3a7",
   "metadata": {},
   "source": [
    "# 3"
   ]
  },
  {
   "cell_type": "code",
   "execution_count": 16,
   "id": "b916793b-8055-4955-bda8-086b45f0cd71",
   "metadata": {
    "tags": []
   },
   "outputs": [
    {
     "name": "stdin",
     "output_type": "stream",
     "text": [
      "Ingrese el día de nacimiento (1-31):  13\n",
      "Ingrese el mes de nacimiento (1-12):  10\n",
      "Ingrese el año de nacimiento (YYYY):  1995\n"
     ]
    },
    {
     "name": "stdout",
     "output_type": "stream",
     "text": [
      "La edad es: 28 años, 4 meses y 22 días.\n"
     ]
    }
   ],
   "source": [
    "# Auth Astrid S.-\n",
    "from datetime import datetime\n",
    "\n",
    "def calcular_edad(dia_nac, mes_nac, ano_nac):\n",
    "    fecha_nacimiento = datetime(ano_nac, mes_nac, dia_nac)\n",
    "    fecha_actual = datetime.now()\n",
    "    diferencia = fecha_actual - fecha_nacimiento\n",
    "    edad_anos = diferencia.days // 365\n",
    "    residuo_dias = diferencia.days % 365\n",
    "    edad_meses = residuo_dias // 30\n",
    "    edad_dias = residuo_dias % 30\n",
    "    return edad_anos, edad_meses, edad_dias\n",
    "\n",
    "dia = int(input(\"Ingrese el día de nacimiento (1-31): \"))\n",
    "mes = int(input(\"Ingrese el mes de nacimiento (1-12): \"))\n",
    "ano = int(input(\"Ingrese el año de nacimiento (YYYY): \"))\n",
    "\n",
    "edad_anos, edad_meses, edad_dias = calcular_edad(dia, mes, ano)\n",
    "\n",
    "salida = f\"La edad es: {edad_anos} años, {edad_meses} meses y {edad_dias} días.\"\n",
    "print(salida)\n",
    "\n"
   ]
  },
  {
   "cell_type": "markdown",
   "id": "0a6489b0-1e66-4001-9f20-a07a1651f2f3",
   "metadata": {},
   "source": [
    "# 4"
   ]
  },
  {
   "cell_type": "code",
   "execution_count": 20,
   "id": "15293961-ac15-4e45-95fe-124e069b5707",
   "metadata": {
    "tags": []
   },
   "outputs": [
    {
     "name": "stdin",
     "output_type": "stream",
     "text": [
      "Ingrese la longitud de la tupla:  8\n",
      "Ingrese el elemento 1:  h\n",
      "Ingrese el elemento 2:  j\n",
      "Ingrese el elemento 3:  k\n",
      "Ingrese el elemento 4:  l\n",
      "Ingrese el elemento 5:  m\n",
      "Ingrese el elemento 6:  n\n",
      "Ingrese el elemento 7:  o\n",
      "Ingrese el elemento 8:  p\n"
     ]
    },
    {
     "name": "stdout",
     "output_type": "stream",
     "text": [
      "La salida es: hjklmnop\n"
     ]
    }
   ],
   "source": [
    "# Auth Astrid S.-\n",
    "def tupla_a_string(tupla):\n",
    "    return ''.join(str(elemento) for elemento in tupla)\n",
    "\n",
    "longitud = int(input(\"Ingrese la longitud de la tupla: \"))\n",
    "\n",
    "entrada = []\n",
    "for i in range(longitud):\n",
    "    elemento = input(f\"Ingrese el elemento {i + 1}: \")\n",
    "    entrada.append(elemento)\n",
    "tupla_entrada = tuple(entrada)\n",
    "salida = tupla_a_string(tupla_entrada)\n",
    "print(\"La salida es:\", salida)\n"
   ]
  },
  {
   "cell_type": "markdown",
   "id": "05e13bd1-3f41-4bc7-83c2-f8fad20fd0ce",
   "metadata": {},
   "source": [
    "# 5"
   ]
  },
  {
   "cell_type": "code",
   "execution_count": 22,
   "id": "858b729a-5512-4756-9a7a-8266c96b6e42",
   "metadata": {
    "tags": []
   },
   "outputs": [
    {
     "name": "stdin",
     "output_type": "stream",
     "text": [
      "Ingrese una lista de tuplas separadas por comas y entre paréntesis:  [(), (), ('X',), ('a', 'b'), ('a', 'b', 'c'), ('d')]\n"
     ]
    },
    {
     "name": "stdout",
     "output_type": "stream",
     "text": [
      "El resultado es: [('X',), ('a', 'b'), ('a', 'b', 'c'), 'd']\n"
     ]
    }
   ],
   "source": [
    "# Auth Astrid S.-\n",
    "def eliminar_tuplas_vacias(lista_tuplas):\n",
    "    return [tupla for tupla in lista_tuplas if tupla]\n",
    "entrada = input(\"Ingrese una lista de tuplas separadas por comas y entre paréntesis y corchtes: \")\n",
    "lista_tuplas = eval(entrada)\n",
    "\n",
    "resultado = eliminar_tuplas_vacias(lista_tuplas)\n",
    "\n",
    "print(\"El resultado es:\", resultado)\n"
   ]
  },
  {
   "cell_type": "markdown",
   "id": "65e36284-e0c3-44a8-a47e-940ed0dec034",
   "metadata": {},
   "source": [
    "# 6"
   ]
  },
  {
   "cell_type": "code",
   "execution_count": 26,
   "id": "20555dad-0912-4e06-a7ef-ca20aab0b898",
   "metadata": {
    "tags": []
   },
   "outputs": [
    {
     "name": "stdin",
     "output_type": "stream",
     "text": [
      "Ingrese una tupla de tuplas con números, separadas por comas y entre paréntesis:  ((10, 10, 10, 12), (30, 45, 56, 45), (81, 80, 39, 32,33))\n"
     ]
    },
    {
     "name": "stdout",
     "output_type": "stream",
     "text": [
      "El resultado es: (10.5, 44.0, 53.0)\n"
     ]
    }
   ],
   "source": [
    "# Auth Astrid S.-\n",
    "def promedio_tuplas(tupla_de_tuplas):\n",
    "    return tuple(sum(tupla) / len(tupla) for tupla in tupla_de_tuplas)\n",
    "\n",
    "# Pedir la tupla como input\n",
    "entrada = input(\"Ingrese una tupla de tuplas con números, separadas por comas y entre paréntesis: \")\n",
    "# Convertir la entrada en una tupla de tuplas\n",
    "tupla_entrada = eval(entrada)\n",
    "\n",
    "# Calcular el promedio de cada tupla\n",
    "resultado = promedio_tuplas(tupla_entrada)\n",
    "\n",
    "# Mostrar el resultado\n",
    "print(\"El resultado es:\", resultado)\n",
    "\n"
   ]
  },
  {
   "cell_type": "markdown",
   "id": "a67e875b-46fc-42de-837e-78e9e058ed38",
   "metadata": {},
   "source": [
    "# 7"
   ]
  },
  {
   "cell_type": "code",
   "execution_count": 29,
   "id": "221ede26-3225-48c6-8389-0f92c24b5f19",
   "metadata": {
    "tags": []
   },
   "outputs": [
    {
     "name": "stdout",
     "output_type": "stream",
     "text": [
      "\n",
      "¿Qué acción desea realizar?\n",
      "1. Añadir una nueva factura\n",
      "2. Pagar una factura existente\n",
      "3. Terminar\n"
     ]
    },
    {
     "name": "stdin",
     "output_type": "stream",
     "text": [
      "Ingrese el número de la opción:  1\n",
      "Ingrese el número de factura (4 dígitos):  5689\n",
      "Ingrese el costo de la factura:  62\n"
     ]
    },
    {
     "name": "stdout",
     "output_type": "stream",
     "text": [
      "Factura añadida correctamente.\n",
      "Cantidad cobrada hasta el momento: 0\n",
      "Cantidad pendiente de cobro: 62.0\n",
      "Facturas pendientes:\n",
      "Número de factura: 5689, Costo: 62.0\n",
      "\n",
      "¿Qué acción desea realizar?\n",
      "1. Añadir una nueva factura\n",
      "2. Pagar una factura existente\n",
      "3. Terminar\n"
     ]
    },
    {
     "name": "stdin",
     "output_type": "stream",
     "text": [
      "Ingrese el número de la opción:  1\n",
      "Ingrese el número de factura (4 dígitos):  9863\n",
      "Ingrese el costo de la factura:  65\n"
     ]
    },
    {
     "name": "stdout",
     "output_type": "stream",
     "text": [
      "Factura añadida correctamente.\n",
      "Cantidad cobrada hasta el momento: 0\n",
      "Cantidad pendiente de cobro: 127.0\n",
      "Facturas pendientes:\n",
      "Número de factura: 5689, Costo: 62.0\n",
      "Número de factura: 9863, Costo: 65.0\n",
      "\n",
      "¿Qué acción desea realizar?\n",
      "1. Añadir una nueva factura\n",
      "2. Pagar una factura existente\n",
      "3. Terminar\n"
     ]
    },
    {
     "name": "stdin",
     "output_type": "stream",
     "text": [
      "Ingrese el número de la opción:  2\n"
     ]
    },
    {
     "name": "stdout",
     "output_type": "stream",
     "text": [
      "Facturas pendientes:\n",
      "Número de factura: 5689, Costo: 62.0\n",
      "Número de factura: 9863, Costo: 65.0\n"
     ]
    },
    {
     "name": "stdin",
     "output_type": "stream",
     "text": [
      "Ingrese el número de factura a pagar:  5689\n"
     ]
    },
    {
     "name": "stdout",
     "output_type": "stream",
     "text": [
      "Factura pagada correctamente.\n",
      "Cantidad cobrada hasta el momento: 62.0\n",
      "Cantidad pendiente de cobro: 65.0\n",
      "Facturas pendientes:\n",
      "Número de factura: 9863, Costo: 65.0\n",
      "\n",
      "¿Qué acción desea realizar?\n",
      "1. Añadir una nueva factura\n",
      "2. Pagar una factura existente\n",
      "3. Terminar\n"
     ]
    },
    {
     "name": "stdin",
     "output_type": "stream",
     "text": [
      "Ingrese el número de la opción:  3\n"
     ]
    },
    {
     "name": "stdout",
     "output_type": "stream",
     "text": [
      "¡Hasta luego!\n"
     ]
    }
   ],
   "source": [
    "# Auth Astrid S.-\n",
    "def mostrar_estado(cobrado, pendiente, facturas):\n",
    "    print(\"Cantidad cobrada hasta el momento:\", cobrado)\n",
    "    print(\"Cantidad pendiente de cobro:\", pendiente)\n",
    "    print(\"Facturas pendientes:\")\n",
    "    for numero, costo in facturas.items():\n",
    "        print(f\"Número de factura: {numero}, Costo: {costo}\")\n",
    "\n",
    "def main():\n",
    "    facturas_pendientes = {}\n",
    "    cobrado = 0\n",
    "\n",
    "    while True:\n",
    "        print(\"\\n¿Qué acción desea realizar?\")\n",
    "        print(\"1. Añadir una nueva factura\")\n",
    "        print(\"2. Pagar una factura existente\")\n",
    "        print(\"3. Terminar\")\n",
    "        opcion = input(\"Ingrese el número de la opción: \")\n",
    "\n",
    "        if opcion == \"1\":\n",
    "            numero = input(\"Ingrese el número de factura (4 dígitos): \")\n",
    "            costo = float(input(\"Ingrese el costo de la factura: \"))\n",
    "            facturas_pendientes[numero] = costo\n",
    "            print(\"Factura añadida correctamente.\")\n",
    "            mostrar_estado(cobrado, sum(facturas_pendientes.values()), facturas_pendientes)\n",
    "\n",
    "        elif opcion == \"2\":\n",
    "            print(\"Facturas pendientes:\")\n",
    "            for numero, costo in facturas_pendientes.items():\n",
    "                print(f\"Número de factura: {numero}, Costo: {costo}\")\n",
    "            numero = input(\"Ingrese el número de factura a pagar: \")\n",
    "            if numero in facturas_pendientes:\n",
    "                cobrado += facturas_pendientes[numero]\n",
    "                del facturas_pendientes[numero]\n",
    "                print(\"Factura pagada correctamente.\")\n",
    "            else:\n",
    "                print(\"La factura no existe en el registro.\")\n",
    "            mostrar_estado(cobrado, sum(facturas_pendientes.values()), facturas_pendientes)\n",
    "\n",
    "        elif opcion == \"3\":\n",
    "            print(\"¡Hasta luego!\")\n",
    "            break\n",
    "\n",
    "        else:\n",
    "            print(\"Opción inválida. Por favor, ingrese 1, 2 o 3.\")\n",
    "\n",
    "main()"
   ]
  },
  {
   "cell_type": "markdown",
   "id": "9a3df9bb-898c-438d-b511-8faff48f1ad8",
   "metadata": {
    "tags": []
   },
   "source": [
    "# 8"
   ]
  },
  {
   "cell_type": "code",
   "execution_count": 33,
   "id": "96302ee3-9ac4-481c-a175-f8e1d7ab142b",
   "metadata": {
    "tags": []
   },
   "outputs": [
    {
     "name": "stdout",
     "output_type": "stream",
     "text": [
      "Baraja de Poker: {'T05', 'C09', 'T02', 'E07', 'E12', 'E06', 'E01', 'T07', 'T08', 'C04', 'P12', 'T03', 'T10', 'C11', 'P04', 'C06', 'C12', 'P01', 'E11', 'P08', 'C10', 'T06', 'P09', 'E03', 'P10', 'P11', 'E10', 'C05', 'P05', 'T12', 'T09', 'P07', 'T04', 'C02', 'C07', 'E13', 'P03', 'E08', 'E09', 'P02', 'T11', 'P13', 'E02', 'C03', 'P06', 'T01', 'E05', 'T13', 'C13', 'E04', 'C01', 'C08'}\n",
      "\n",
      "Conjunto 1: {'P08', 'P09', 'C07', 'C09', 'P11', 'P02', 'T02', 'P01', 'E01', 'T07', 'P12', 'P07'}\n",
      "Conjunto 2: {'T05', 'C09', 'E07', 'E01', 'T07', 'T08', 'P04', 'C06', 'P01', 'P11', 'C05', 'P05', 'T12', 'T09', 'P07', 'C02', 'C07', 'E09', 'P02', 'E02', 'T01', 'T10', 'C01', 'C08'}\n",
      "\n",
      "Probabilidad de la intersección de ambos conjuntos: 0.027777777777777776\n",
      "Probabilidad de la unión de ambos conjuntos: 0.09722222222222222\n",
      "\n",
      "La regla del producto no se cumple.\n",
      "La regla de la adición se cumple.\n"
     ]
    }
   ],
   "source": [
    "# Auth Astrid S.-\n",
    "import random\n",
    "\n",
    "def crear_baraja():\n",
    "    tipos = ['T', 'C', 'P', 'E']\n",
    "    numeros = [str(i).zfill(2) for i in range(1, 14)]  # Genera números de 01 a 13 con 2 dígitos\n",
    "\n",
    "    baraja = set()\n",
    "    for tipo in tipos:\n",
    "        for numero in numeros:\n",
    "            carta = tipo + numero\n",
    "            baraja.add(carta)\n",
    "\n",
    "    return baraja\n",
    "\n",
    "def crear_conjuntos(baraja):\n",
    "    longitud_conjunto1 = random.randint(1, len(baraja))\n",
    "    longitud_conjunto2 = random.randint(1, len(baraja))\n",
    "\n",
    "    lista_baraja = list(baraja)  # Convertir el conjunto en una lista\n",
    "    conjunto1 = set(random.sample(lista_baraja, longitud_conjunto1))\n",
    "    conjunto2 = set(random.sample(lista_baraja, longitud_conjunto2))\n",
    "\n",
    "    return conjunto1, conjunto2\n",
    "\n",
    "def calcular_probabilidad_interseccion(conjunto1, conjunto2):\n",
    "    interseccion = conjunto1 & conjunto2\n",
    "    probabilidad_interseccion = len(interseccion) / len(conjunto1) / len(conjunto2)\n",
    "    return probabilidad_interseccion\n",
    "\n",
    "def calcular_probabilidad_union(conjunto1, conjunto2):\n",
    "    union = conjunto1 | conjunto2\n",
    "    probabilidad_union = len(union) / len(conjunto1) / len(conjunto2)\n",
    "    return probabilidad_union\n",
    "\n",
    "def main():\n",
    "    baraja = crear_baraja()\n",
    "    print(\"Baraja de Poker:\", baraja)\n",
    "\n",
    "    conjunto1, conjunto2 = crear_conjuntos(baraja)\n",
    "    print(\"\\nConjunto 1:\", conjunto1)\n",
    "    print(\"Conjunto 2:\", conjunto2)\n",
    "\n",
    "    probabilidad_interseccion = calcular_probabilidad_interseccion(conjunto1, conjunto2)\n",
    "    print(\"\\nProbabilidad de la intersección de ambos conjuntos:\", probabilidad_interseccion)\n",
    "\n",
    "    probabilidad_union = calcular_probabilidad_union(conjunto1, conjunto2)\n",
    "    print(\"Probabilidad de la unión de ambos conjuntos:\", probabilidad_union)\n",
    "\n",
    "    if probabilidad_interseccion == probabilidad_union:\n",
    "        print(\"\\nLa regla del producto se cumple.\")\n",
    "    else:\n",
    "        print(\"\\nLa regla del producto no se cumple.\")\n",
    "\n",
    "    suma_probabilidades = probabilidad_interseccion + probabilidad_union\n",
    "    if suma_probabilidades <= 1:\n",
    "        print(\"La regla de la adición se cumple.\")\n",
    "    else:\n",
    "        print(\"La regla de la adición no se cumple.\")\n",
    "\n",
    "main()\n",
    "\n"
   ]
  }
 ],
 "metadata": {
  "kernelspec": {
   "display_name": "Python 3 (ipykernel)",
   "language": "python",
   "name": "python3"
  },
  "language_info": {
   "codemirror_mode": {
    "name": "ipython",
    "version": 3
   },
   "file_extension": ".py",
   "mimetype": "text/x-python",
   "name": "python",
   "nbconvert_exporter": "python",
   "pygments_lexer": "ipython3",
   "version": "3.11.5"
  }
 },
 "nbformat": 4,
 "nbformat_minor": 5
}
